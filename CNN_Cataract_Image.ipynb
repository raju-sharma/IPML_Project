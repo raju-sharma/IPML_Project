{
  "cells": [
    {
      "cell_type": "markdown",
      "metadata": {
        "id": "view-in-github",
        "colab_type": "text"
      },
      "source": [
        "<a href=\"https://colab.research.google.com/github/raju-sharma/IPML_Project/blob/main/CNN_Cataract_Image.ipynb\" target=\"_parent\"><img src=\"https://colab.research.google.com/assets/colab-badge.svg\" alt=\"Open In Colab\"/></a>"
      ]
    },
    {
      "cell_type": "code",
      "execution_count": 87,
      "metadata": {
        "id": "88hOajQtXust"
      },
      "outputs": [],
      "source": [
        "import os\n",
        "# Set the path to your dataset\n",
        "dataset_path = '/content/drive/MyDrive/dataset'\n",
        "\n",
        "# Set the train-test split ratio\n",
        "test_size = 0.20\n",
        "\n",
        "# Get the list of normal and abnormal image file paths\n",
        "normal_images = [os.path.join(dataset_path, '1_normal', img) for img in os.listdir(os.path.join(dataset_path, '1_normal'))]\n",
        "abnormal_images = [os.path.join(dataset_path, '2_cataract', img) for img in os.listdir(os.path.join(dataset_path, '2_cataract'))]\n",
        "\n",
        "# Create the labels for each image\n",
        "normal_labels = [0] * len(normal_images)    \n",
        "abnormal_labels = [1] * len(abnormal_images)\n",
        "\n",
        "# Concatenate the images and labels\n",
        "images = normal_images + abnormal_images\n",
        "labels = normal_labels + abnormal_labels"
      ]
    },
    {
      "cell_type": "code",
      "execution_count": 88,
      "metadata": {
        "id": "YZpCGPUyvp9x"
      },
      "outputs": [],
      "source": [
        "import tensorflow as tf\n",
        "from tensorflow import keras\n",
        "from keras import Sequential\n",
        "from keras.layers import Dense,Conv2D,MaxPooling2D,Flatten"
      ]
    },
    {
      "cell_type": "code",
      "execution_count": 89,
      "metadata": {
        "id": "B1cbE1JfzPgr"
      },
      "outputs": [],
      "source": [
        "model = Sequential()\n",
        "\n",
        "model.add(Conv2D(2,kernel_size=(3,3), padding='same', activation='relu', input_shape=(512,512,3)))\n",
        "model.add(Conv2D(2,kernel_size=(3,3),padding='same',activation='relu'))\n",
        "model.add(MaxPooling2D(pool_size=(2,2),strides=2))\n",
        "\n",
        "model.add(Conv2D(4,kernel_size=(3,3),padding='same',activation='relu'))\n",
        "model.add(Conv2D(4,kernel_size=(3,3),padding='same',activation='relu'))\n",
        "model.add(MaxPooling2D(pool_size=(2,2),strides=2))\n",
        "\n",
        "model.add(Conv2D(8,kernel_size=(3,3),padding='same',activation='relu'))\n",
        "model.add(Conv2D(8,kernel_size=(3,3),padding='same',activation='relu'))\n",
        "model.add(Conv2D(8, kernel_size=(3,3), padding=\"same\", activation=\"relu\"))\n",
        "model.add(MaxPooling2D(pool_size=(2,2),strides=2))\n",
        "\n",
        "\n",
        "model.add(Conv2D(16,kernel_size=(3,3),padding='same',activation='relu'))\n",
        "model.add(Conv2D(16,kernel_size=(3,3),padding='same',activation='relu'))\n",
        "model.add(Conv2D(16, kernel_size=(3,3), padding='same', activation='relu'))\n",
        "model.add(MaxPooling2D(pool_size=(2,2),strides=2))\n",
        "\n",
        "\n",
        "model.add(Conv2D(16,kernel_size=(3,3),padding='same',activation='relu'))\n",
        "model.add(Conv2D(16,kernel_size=(3,3),padding='same',activation='relu'))\n",
        "model.add(Conv2D(16, kernel_size=(3,3),padding='same',activation='relu'))\n",
        "model.add(MaxPooling2D(pool_size=(2,2),strides=2))\n",
        "\n",
        "model.add(Flatten())\n",
        "model.add(Dense(4096,activation='relu'))\n",
        "model.add(Dense(4096,activation='relu'))\n",
        "model.add(Dense(1,activation='sigmoid'))\n"
      ]
    },
    {
      "cell_type": "code",
      "execution_count": 90,
      "metadata": {
        "colab": {
          "base_uri": "https://localhost:8080/"
        },
        "id": "y_euH8FBVqDg",
        "outputId": "34a9ab83-369c-4d22-a96d-55dd1ca95682"
      },
      "outputs": [
        {
          "output_type": "stream",
          "name": "stdout",
          "text": [
            "Model: \"sequential_5\"\n",
            "_________________________________________________________________\n",
            " Layer (type)                Output Shape              Param #   \n",
            "=================================================================\n",
            " conv2d_65 (Conv2D)          (None, 512, 512, 2)       56        \n",
            "                                                                 \n",
            " conv2d_66 (Conv2D)          (None, 512, 512, 2)       38        \n",
            "                                                                 \n",
            " max_pooling2d_25 (MaxPoolin  (None, 256, 256, 2)      0         \n",
            " g2D)                                                            \n",
            "                                                                 \n",
            " conv2d_67 (Conv2D)          (None, 256, 256, 4)       76        \n",
            "                                                                 \n",
            " conv2d_68 (Conv2D)          (None, 256, 256, 4)       148       \n",
            "                                                                 \n",
            " max_pooling2d_26 (MaxPoolin  (None, 128, 128, 4)      0         \n",
            " g2D)                                                            \n",
            "                                                                 \n",
            " conv2d_69 (Conv2D)          (None, 128, 128, 8)       296       \n",
            "                                                                 \n",
            " conv2d_70 (Conv2D)          (None, 128, 128, 8)       584       \n",
            "                                                                 \n",
            " conv2d_71 (Conv2D)          (None, 128, 128, 8)       584       \n",
            "                                                                 \n",
            " max_pooling2d_27 (MaxPoolin  (None, 64, 64, 8)        0         \n",
            " g2D)                                                            \n",
            "                                                                 \n",
            " conv2d_72 (Conv2D)          (None, 64, 64, 16)        1168      \n",
            "                                                                 \n",
            " conv2d_73 (Conv2D)          (None, 64, 64, 16)        2320      \n",
            "                                                                 \n",
            " conv2d_74 (Conv2D)          (None, 64, 64, 16)        2320      \n",
            "                                                                 \n",
            " max_pooling2d_28 (MaxPoolin  (None, 32, 32, 16)       0         \n",
            " g2D)                                                            \n",
            "                                                                 \n",
            " conv2d_75 (Conv2D)          (None, 32, 32, 16)        2320      \n",
            "                                                                 \n",
            " conv2d_76 (Conv2D)          (None, 32, 32, 16)        2320      \n",
            "                                                                 \n",
            " conv2d_77 (Conv2D)          (None, 32, 32, 16)        2320      \n",
            "                                                                 \n",
            " max_pooling2d_29 (MaxPoolin  (None, 16, 16, 16)       0         \n",
            " g2D)                                                            \n",
            "                                                                 \n",
            " flatten_5 (Flatten)         (None, 4096)              0         \n",
            "                                                                 \n",
            " dense_15 (Dense)            (None, 4096)              16781312  \n",
            "                                                                 \n",
            " dense_16 (Dense)            (None, 4096)              16781312  \n",
            "                                                                 \n",
            " dense_17 (Dense)            (None, 1)                 4097      \n",
            "                                                                 \n",
            "=================================================================\n",
            "Total params: 33,581,271\n",
            "Trainable params: 33,581,271\n",
            "Non-trainable params: 0\n",
            "_________________________________________________________________\n"
          ]
        }
      ],
      "source": [
        "model.summary()"
      ]
    },
    {
      "cell_type": "code",
      "execution_count": 91,
      "metadata": {
        "id": "M5m1fvQq5pEr"
      },
      "outputs": [],
      "source": [
        "model.compile(optimizer='adam',loss='binary_crossentropy',metrics=['accuracy'])"
      ]
    },
    {
      "cell_type": "code",
      "execution_count": 92,
      "metadata": {
        "colab": {
          "base_uri": "https://localhost:8080/"
        },
        "id": "y0gaXKgX-RN9",
        "outputId": "4a5bbceb-6ac9-4ea0-f9c4-e81a23e8b96b"
      },
      "outputs": [
        {
          "output_type": "stream",
          "name": "stdout",
          "text": [
            "Number of train images: 320\n",
            "Number of test images: 80\n"
          ]
        }
      ],
      "source": [
        "# Split the dataset into train and test sets\n",
        "from sklearn.model_selection import train_test_split\n",
        "train_images, test_images, train_labels, test_labels = train_test_split(images, labels, test_size=test_size, random_state=13)\n",
        "# Check the number of images in each set\n",
        "print('Number of train images:', len(train_images))\n",
        "print('Number of test images:', len(test_images))"
      ]
    },
    {
      "cell_type": "code",
      "execution_count": 93,
      "metadata": {
        "colab": {
          "base_uri": "https://localhost:8080/"
        },
        "id": "3YwKtOgklJaG",
        "outputId": "7119873a-e986-4006-f41c-9f8ab6e61dc4"
      },
      "outputs": [
        {
          "output_type": "stream",
          "name": "stdout",
          "text": [
            "(512, 512, 3)\n"
          ]
        }
      ],
      "source": [
        "import cv2\n",
        "from PIL import Image\n",
        "X_train = []\n",
        "for file_path in train_images:\n",
        "        img_array=cv2.imread(os.path.join(file_path))\n",
        "        img_array=cv2.resize(img_array,(512,512))\n",
        "        X_train.append(img_array)\n",
        "print(X_train[0].shape)"
      ]
    },
    {
      "cell_type": "code",
      "execution_count": 94,
      "metadata": {
        "colab": {
          "base_uri": "https://localhost:8080/"
        },
        "id": "xpZ3C4xJ-UK5",
        "outputId": "224172bb-8393-411a-bcda-828ad0e84577"
      },
      "outputs": [
        {
          "output_type": "stream",
          "name": "stdout",
          "text": [
            "(512, 512, 3)\n"
          ]
        }
      ],
      "source": [
        "X_test = []\n",
        "for file_path in test_images:\n",
        "        img_array=cv2.imread(os.path.join(file_path))\n",
        "        img_array=cv2.resize(img_array,(512,512))\n",
        "        X_test.append(img_array)\n",
        "print(X_test[0].shape)"
      ]
    },
    {
      "cell_type": "code",
      "execution_count": 95,
      "metadata": {
        "colab": {
          "base_uri": "https://localhost:8080/"
        },
        "id": "Dxr1g7wj_CqR",
        "outputId": "ebb17e9c-7be0-4a11-860b-7a13e8fc4460"
      },
      "outputs": [
        {
          "output_type": "execute_result",
          "data": {
            "text/plain": [
              "(80, 1)"
            ]
          },
          "metadata": {},
          "execution_count": 95
        }
      ],
      "source": [
        "import numpy as np\n",
        "y_train = np.array(train_labels)\n",
        "y_train = y_train.reshape(len(y_train),1)\n",
        "y_test = np.array(test_labels)\n",
        "y_test = y_test.reshape(len(y_test),1)\n",
        "y_test.shape"
      ]
    },
    {
      "cell_type": "code",
      "execution_count": 96,
      "metadata": {
        "colab": {
          "base_uri": "https://localhost:8080/"
        },
        "id": "RFPVArd9A4IB",
        "outputId": "6b27eda2-980d-4f65-f34c-c93207f58326"
      },
      "outputs": [
        {
          "output_type": "execute_result",
          "data": {
            "text/plain": [
              "(80, 512, 512, 3)"
            ]
          },
          "metadata": {},
          "execution_count": 96
        }
      ],
      "source": [
        "X_train = np.array(X_train)\n",
        "X_train = X_train/255.0\n",
        "X_test = np.array(X_test)\n",
        "X_test = X_test/255.0\n",
        "X_test.shape"
      ]
    },
    {
      "cell_type": "code",
      "execution_count": 97,
      "metadata": {
        "colab": {
          "base_uri": "https://localhost:8080/"
        },
        "id": "FzL5n9rc-mvu",
        "outputId": "e5705f89-6804-45be-f066-eabb9a619293"
      },
      "outputs": [
        {
          "output_type": "execute_result",
          "data": {
            "text/plain": [
              "(320, 512, 512, 3)"
            ]
          },
          "metadata": {},
          "execution_count": 97
        }
      ],
      "source": [
        "X_train.shape"
      ]
    },
    {
      "cell_type": "code",
      "execution_count": 98,
      "metadata": {
        "colab": {
          "base_uri": "https://localhost:8080/"
        },
        "id": "CS_DjnR55-SU",
        "outputId": "b9ea1061-822f-4554-a08f-ce289796d657"
      },
      "outputs": [
        {
          "output_type": "execute_result",
          "data": {
            "text/plain": [
              "(320, 1)"
            ]
          },
          "metadata": {},
          "execution_count": 98
        }
      ],
      "source": [
        "y_train.shape"
      ]
    },
    {
      "cell_type": "code",
      "execution_count": 99,
      "metadata": {
        "id": "zQfnMbgukxmq",
        "colab": {
          "base_uri": "https://localhost:8080/"
        },
        "outputId": "5327a61f-8b72-434d-8359-a0814fc45922"
      },
      "outputs": [
        {
          "output_type": "stream",
          "name": "stdout",
          "text": [
            "Epoch 1/10\n",
            "10/10 [==============================] - 7s 109ms/step - loss: 0.6768 - accuracy: 0.6844\n",
            "Epoch 2/10\n",
            "10/10 [==============================] - 1s 102ms/step - loss: 0.5826 - accuracy: 0.7437\n",
            "Epoch 3/10\n",
            "10/10 [==============================] - 1s 99ms/step - loss: 0.5876 - accuracy: 0.7437\n",
            "Epoch 4/10\n",
            "10/10 [==============================] - 1s 97ms/step - loss: 0.5811 - accuracy: 0.7437\n",
            "Epoch 5/10\n",
            "10/10 [==============================] - 1s 100ms/step - loss: 0.5730 - accuracy: 0.7437\n",
            "Epoch 6/10\n",
            "10/10 [==============================] - 1s 98ms/step - loss: 0.5714 - accuracy: 0.7437\n",
            "Epoch 7/10\n",
            "10/10 [==============================] - 1s 98ms/step - loss: 0.5733 - accuracy: 0.7437\n",
            "Epoch 8/10\n",
            "10/10 [==============================] - 1s 99ms/step - loss: 0.5731 - accuracy: 0.7437\n",
            "Epoch 9/10\n",
            "10/10 [==============================] - 1s 97ms/step - loss: 0.5710 - accuracy: 0.7437\n",
            "Epoch 10/10\n",
            "10/10 [==============================] - 1s 97ms/step - loss: 0.5707 - accuracy: 0.7437\n"
          ]
        },
        {
          "output_type": "execute_result",
          "data": {
            "text/plain": [
              "<keras.callbacks.History at 0x7f63809f6860>"
            ]
          },
          "metadata": {},
          "execution_count": 99
        }
      ],
      "source": [
        "model.fit(X_train,y_train,epochs =10)"
      ]
    },
    {
      "cell_type": "code",
      "execution_count": 100,
      "metadata": {
        "colab": {
          "base_uri": "https://localhost:8080/"
        },
        "id": "ktvVtCeo-aMe",
        "outputId": "561e33d3-1990-4522-9c25-0ce167ee75c1"
      },
      "outputs": [
        {
          "output_type": "stream",
          "name": "stderr",
          "text": [
            "WARNING:tensorflow:5 out of the last 13 calls to <function Model.make_predict_function.<locals>.predict_function at 0x7f637f2337f0> triggered tf.function retracing. Tracing is expensive and the excessive number of tracings could be due to (1) creating @tf.function repeatedly in a loop, (2) passing tensors with different shapes, (3) passing Python objects instead of tensors. For (1), please define your @tf.function outside of the loop. For (2), @tf.function has reduce_retracing=True option that can avoid unnecessary retracing. For (3), please refer to https://www.tensorflow.org/guide/function#controlling_retracing and https://www.tensorflow.org/api_docs/python/tf/function for  more details.\n"
          ]
        },
        {
          "output_type": "stream",
          "name": "stdout",
          "text": [
            "3/3 [==============================] - 1s 412ms/step\n"
          ]
        }
      ],
      "source": [
        "y_predict = model.predict(X_test)\n",
        "y_predict = y_predict.argmax(axis=-1)"
      ]
    },
    {
      "cell_type": "code",
      "execution_count": 101,
      "metadata": {
        "colab": {
          "base_uri": "https://localhost:8080/"
        },
        "id": "yM60ubJdEk8H",
        "outputId": "33b55b85-4800-42f0-d7da-bf18f31e6009"
      },
      "outputs": [
        {
          "output_type": "stream",
          "name": "stdout",
          "text": [
            "Accuracy on unknown data is 0.775\n"
          ]
        }
      ],
      "source": [
        "from sklearn.metrics import accuracy_score\n",
        "print(\"Accuracy on unknown data is\",accuracy_score(y_predict,y_test))"
      ]
    },
    {
      "cell_type": "code",
      "execution_count": 102,
      "metadata": {
        "colab": {
          "base_uri": "https://localhost:8080/",
          "height": 472
        },
        "id": "Ab8NgaPGc17s",
        "outputId": "d14b9b65-a523-46ff-9b7b-c9f34bcf6899"
      },
      "outputs": [
        {
          "output_type": "display_data",
          "data": {
            "text/plain": [
              "<Figure size 640x480 with 2 Axes>"
            ],
            "image/png": "[encoded data removed]"
          },
          "metadata": {}
        }
      ],
      "source": [
        "from sklearn.metrics import confusion_matrix\n",
        "import seaborn as sns\n",
        "import matplotlib.pyplot as plt\n",
        "cm = confusion_matrix(y_predict,y_test)\n",
        "sns.heatmap(cm, annot=True, fmt=\"d\")\n",
        "plt.title(\"Confusion Matrix\")\n",
        "plt.ylabel(\"True Label\")\n",
        "plt.xlabel(\"Predicted Label\")\n",
        "plt.show()"
      ]
    }
  ],
  "metadata": {
    "accelerator": "GPU",
    "colab": {
      "provenance": [],
      "mount_file_id": "12pfzSKukxm1FPhFAiJySnY5sK12HnOWy",
      "authorship_tag": "ABX9TyO8975/EcXqpiLNj0Vt99vw",
      "include_colab_link": true
    },
    "gpuClass": "standard",
    "kernelspec": {
      "display_name": "Python 3",
      "name": "python3"
    },
    "language_info": {
      "name": "python"
    }
  },
  "nbformat": 4,
  "nbformat_minor": 0
}